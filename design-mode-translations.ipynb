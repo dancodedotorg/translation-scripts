{
 "cells": [
  {
   "cell_type": "markdown",
   "metadata": {},
   "source": [
    "## Generating Translations from Design Mode in App Lab Projects\n",
    "\n",
    "This notebook takes you through the steps to past in the `start_html` from an App Lab level, then generate some boilerplate code needed to make the app translatable with a student library.\n",
    "\n",
    "[More info on making Applab sample apps translatable here]()"
   ]
  },
  {
   "cell_type": "markdown",
   "metadata": {},
   "source": [
    "**Step 1:** Press the 'Run' button on the cell below. This sets up a bunch of stuff you'll need later"
   ]
  },
  {
   "cell_type": "code",
   "execution_count": 7,
   "metadata": {},
   "outputs": [],
   "source": [
    "# https://chat.openai.com/share/ec305005-2ed7-4505-ac40-8252709fd2a3\n",
    "\n",
    "from bs4 import BeautifulSoup\n",
    "\n",
    "def extract_strings(html_content):\n",
    "    soup = BeautifulSoup(html_content, 'html.parser')\n",
    "    \n",
    "    results = []\n",
    "\n",
    "    # Extract content between <label></label> tags\n",
    "    for label in soup.find_all('label'):\n",
    "        results.append((\"label\", label.get('id', 'no-id'), label.get_text()))\n",
    "\n",
    "    # Extract content between <option></option> tags\n",
    "    for option in soup.find_all('option'):\n",
    "        select_id = option.find_parent('select').get('id', 'no-id')\n",
    "        results.append((\"option\", select_id, option.get_text()))\n",
    "\n",
    "    # Extract content between <button></button> tags\n",
    "    for button in soup.find_all('button'):\n",
    "        results.append((\"button\", button.get('id', 'no-id'), button.get_text()))\n",
    "\n",
    "    # Extract content within the 'placeholder' property of <input> elements\n",
    "    for inp in soup.find_all('input'):\n",
    "        if 'input' in inp.attrs:\n",
    "            results.append((\"input placeholder\", inp.get('id', 'no-id'), inp['placeholder']))\n",
    "\n",
    "    # Extract strings within <div></div> tags that have a contenteditable=true property\n",
    "    for div in soup.find_all('div', contenteditable='true'):\n",
    "        results.append((\"textarea\", div.get('id', 'no-id'), div.get_text()))\n",
    "\n",
    "    return results\n"
   ]
  },
  {
   "cell_type": "markdown",
   "metadata": {},
   "source": [
    "**Step 2:** Replace the text between the \"\"\" \"\"\" lines with the design mode HTML from your app. You can get this in two ways:\n",
    "\n",
    "- Option 1: Edit the level and find the Design section of the edit screen, then copy everything you see there and paste below\n",
    "- Option 2: While the level is running, open the Developer Tools and go to the console, then type in `copy(Applab.getHtml())` into the console. It will look like nothing has happened, but you've actually copied all of the design mode HTML and can paste it below\n",
    "\n",
    "After you've pasted it, make sure to run the cell"
   ]
  },
  {
   "cell_type": "code",
   "execution_count": 8,
   "metadata": {},
   "outputs": [],
   "source": [
    "# Sample input\n",
    "html_input = \"\"\"\n",
    "<div id=\"designModeViz\" class=\"appModern clip-content\" tabindex=\"1\" data-radium=\"true\" style=\"width: 320px; height: 450px; transform: scale(0.81875);\"><div class=\"screen\" tabindex=\"1\" data-theme=\"default\" id=\"screen1\" style=\"display: block; height: 450px; width: 320px; left: 0px; top: 0px; position: absolute; z-index: 0; background-color: rgb(255, 255, 255);\"><label style=\"margin: 0px; line-height: 1; overflow: hidden; overflow-wrap: break-word; max-width: 320px; border-style: solid; text-rendering: optimizespeed; color: rgb(77, 87, 95); background-color: rgba(0, 0, 0, 0); border-color: rgb(77, 87, 95); border-radius: 0px; border-width: 0px; font-family: &quot;Arial Black&quot;, Gadget, sans-serif; font-size: 13px; padding: 2px 15px; width: 240px; height: 60px; position: absolute; left: 35px; top: 125px;\" id=\"label1\">Pick a color!</label><select id=\"dropdown1\" style=\"width: 200px; height: 30px; margin: 0px; border-style: solid; background-color: rgb(255, 255, 255); color: rgb(77, 87, 95); background-image: url(&quot;data:image/svg+xml;charset=US-ASCII,%3Csvg%20xmlns%3D%22http%3A%2F%2Fwww.w3.org%2F2000%2Fsvg%22%20viewBox%3D%220%200%20256%20448%22%20enable-background%3D%22new%200%200%20256%20448%22%3E%3Cstyle%20type%3D%22text%2Fcss%22%3E.arrow%7Bfill%3A%234d575f%3B%7D%3C%2Fstyle%3E%3Cpath%20class%3D%22arrow%22%20d%3D%22M255.9%20168c0-4.2-1.6-7.9-4.8-11.2-3.2-3.2-6.9-4.8-11.2-4.8H16c-4.2%200-7.9%201.6-11.2%204.8S0%20163.8%200%20168c0%204.4%201.6%208.2%204.8%2011.4l112%20112c3.1%203.1%206.8%204.6%2011.2%204.6%204.4%200%208.2-1.5%2011.4-4.6l112-112c3-3.2%204.5-7%204.5-11.4z%22%2F%3E%3C%2Fsvg%3E&quot;); border-color: rgb(0, 0, 0); border-radius: 4px; border-width: 1px; font-family: Arial, Helvetica, sans-serif; font-size: 13px; padding: 0px 30px 0px 15px; position: absolute; left: 60px; top: 200px;\"><option>Red</option><option>Blue</option></select><button id=\"showChoice\" style=\"padding: 0px; margin: 0px; border-style: solid; height: 40px; width: 150px; background-color: rgb(255, 164, 0); color: rgb(255, 255, 255); border-color: rgb(77, 87, 95); border-radius: 4px; border-width: 1px; font-family: &quot;Arial Black&quot;, Gadget, sans-serif; font-size: 15px; position: absolute; left: 75px; top: 310px;\">See my choice</button><input id=\"text_input1\" style=\"margin: 0px; width: 200px; height: 30px; border-style: solid; color: rgb(77, 87, 95); background-color: rgb(242, 242, 242); border-color: rgb(77, 87, 95); border-radius: 4px; border-width: 1px; font-family: Arial, Helvetica, sans-serif; font-size: 13px; padding: 5px 15px; position: absolute; left: 60px; top: 25px;\" placeholder=\"placeholderTest\"><div contenteditable=\"true\" class=\"textArea\" id=\"text_area1\" style=\"width: 200px; height: 100px; border-style: solid; background-color: rgb(242, 242, 242); color: rgb(77, 87, 95); border-color: rgb(255, 255, 255); border-radius: 2px; border-width: 1px; font-family: Arial, Helvetica, sans-serif; font-size: 13px; padding: 5px 15px; position: absolute; left: 60px; top: 350px; margin: 0px;\">divTest</div></div></div>\n",
    "\"\"\"  # The provided sample input"
   ]
  },
  {
   "cell_type": "markdown",
   "metadata": {},
   "source": [
    "**Step 3:** Update the libraryName variable below to match the library you are generating. Libraries follow a naming convention of `[Course][Year]L[#]`. For example: `HAIW23L2` would be all translation strings for levels in How AI Works 2023 Lesson 2\n",
    "\n",
    "After you've done this, run the cell"
   ]
  },
  {
   "cell_type": "code",
   "execution_count": 4,
   "metadata": {},
   "outputs": [],
   "source": [
    "library_name = \"HAIWL5\""
   ]
  },
  {
   "cell_type": "markdown",
   "metadata": {},
   "source": [
    "**Generate the TRANSLATIONTEXT Object:** This block will generate the `TRANSLATIONTEXT` object that should go inside your student library. It will catch all design mode strings that need to be translated\n",
    "\n",
    "Run the cell below, then copy-and-paste the output underneath into the student library template"
   ]
  },
  {
   "cell_type": "code",
   "execution_count": 9,
   "metadata": {},
   "outputs": [
    {
     "name": "stdout",
     "output_type": "stream",
     "text": [
      "var TRANSLATIONTEXT = {\n",
      "  \"label1_0\": \"Pick a color!\",\n",
      "  \"dropdown1_1\": \"Red\",\n",
      "  \"dropdown1_2\": \"Blue\",\n",
      "  \"showChoice_3\": \"See my choice\",\n",
      "  \"text_area1_4\": \"divTest\"\n",
      "};\n",
      "\n"
     ]
    }
   ],
   "source": [
    "#Generate TRANSLATIONTEXT for library\n",
    "result = extract_strings(html_input)\n",
    "index = 0\n",
    "tempStr = \"\"\n",
    "tempStr += \"var TRANSLATIONTEXT = {\\n\"\n",
    "for (type, element_id, string) in result:\n",
    "    tempStr += f'  \"{element_id}_{index}\": \"{string}\",\\n'\n",
    "    index += 1\n",
    "tempStr = tempStr[:-2] + \"\\n\"\n",
    "tempStr += \"};\"\n",
    "print(tempStr)\n",
    "print()"
   ]
  },
  {
   "cell_type": "markdown",
   "metadata": {},
   "source": [
    "**Generate variable assignments:** This block will generate variable assignments from the strings in design mode elements that need to be translated. These variables go in the student-facing level at the top of the code, and are then re-used throughout the code instead of the raw strings\n",
    "\n",
    "Run the cell below, then copy-and-paste the output underneath at the beginning of the student level"
   ]
  },
  {
   "cell_type": "code",
   "execution_count": 11,
   "metadata": {},
   "outputs": [
    {
     "name": "stdout",
     "output_type": "stream",
     "text": [
      "var label1Text = I18n_HAIWL5.translate(\"label1_0\");\n",
      "var dropdown1Option1 = I18n_HAIWL5.translate(\"dropdown1_1\");\n",
      "var dropdown1Option2 = I18n_HAIWL5.translate(\"dropdown1_2\");\n",
      "var showChoiceText = I18n_HAIWL5.translate(\"showChoice_3\");\n",
      "var text_area1Text = I18n_HAIWL5.translate(\"text_area1_4\");\n"
     ]
    }
   ],
   "source": [
    "#Generate variable assignments for app\n",
    "index = 0\n",
    "for (type, element_id, string) in result:\n",
    "    if type == \"label\" or type == \"button\" or type == \"textarea\":\n",
    "        print(f'var {element_id}Text = I18n_{library_name}.translate(\"{element_id}_{index}\");')\n",
    "    if type == \"input\":\n",
    "        print(f'var {element_id}Placeholder = I18n_{library_name}.translate(\"{element_id}_{index}\");')\n",
    "    if type == \"option\":\n",
    "        print(f'var {element_id}Option{index} = I18n_{library_name}.translate(\"{element_id}_{index}\");')\n",
    "    index += 1"
   ]
  },
  {
   "cell_type": "markdown",
   "metadata": {},
   "source": [
    "**Generate setStyle Blocks:** Some sentences, when translated, might move outside the original design mode boundaries. To avoid text being cutoff, we can set the `overflow` css property to `auto`, which will automatically generate scroll bars when needed. It's not a perfect UI, and the levelbuilder should still try to add padding to elements, but it will ensure students can always read text on the screen.\n",
    "\n",
    "Run the cell below, then copy-and-paste the output underneath just after the variable assignments in the student level"
   ]
  },
  {
   "cell_type": "code",
   "execution_count": 12,
   "metadata": {},
   "outputs": [
    {
     "name": "stdout",
     "output_type": "stream",
     "text": [
      "setStyle(\"label1\", \"overflow: auto\");\n",
      "setStyle(\"showChoice\", \"overflow: auto\");\n",
      "setStyle(\"text_area1\", \"overflow: auto\");\n"
     ]
    }
   ],
   "source": [
    "# Generate setStyle tags for labels / buttons / etc to overflow in app\n",
    "for (type, element_id, string) in result:\n",
    "    if type == \"label\" or type == \"button\" or type == \"textarea\":\n",
    "        print(f'setStyle(\"{element_id}\", \"overflow: auto\");')"
   ]
  },
  {
   "cell_type": "markdown",
   "metadata": {},
   "source": [
    "**Generate setText / setProperty Blocks:** Now that we have translations, we need to manually update the design mode elements to use these translations. This involves using `setText` to update text, and `setProperty` for things like dropdowns and input placeholders.\n",
    "\n",
    "Run the cell below, then copy-and-paste the output underneath just after the setStyle commands in the student level"
   ]
  },
  {
   "cell_type": "code",
   "execution_count": 14,
   "metadata": {},
   "outputs": [
    {
     "name": "stdout",
     "output_type": "stream",
     "text": [
      "setText(\"label1\", label1Text);\n",
      "setText(\"showChoice\", showChoiceText);\n",
      "setText(\"text_area1\", text_area1Text);\n",
      "setProperty(\"dropdownTest\", \"options\", ['option1', 'option2']);\n",
      "setProperty(\"dropdown1\", \"options\", ['Red', 'Blue']);\n"
     ]
    }
   ],
   "source": [
    "index = 0\n",
    "dropdowns = []\n",
    "for (type, element_id, string) in result:\n",
    "    if type == \"label\" or type == \"button\" or type == \"textarea\":\n",
    "        print(f'setText(\"{element_id}\", {element_id}Text);')\n",
    "    if type == \"input\":\n",
    "        print(f'setProperty(\"{element_id}\", \"placeholder\", {element_id}Placeholder);')\n",
    "    if type == \"option\":\n",
    "        exists = False\n",
    "        for obj in dropdowns:\n",
    "            if obj[\"id\"] == element_id:\n",
    "                obj[\"options\"].append(string)\n",
    "                exists = True\n",
    "        if not exists:\n",
    "            dropdowns.append({\"id\": element_id, \"options\": [string]})\n",
    "    index += 1\n",
    "#dropdowns is array of objects with structure {\"id\": eltId, \"options\": array of options}\n",
    "for obj in dropdowns:\n",
    "    print(f'setProperty(\"{obj[\"id\"]}\", \"options\", {obj[\"options\"]});')"
   ]
  }
 ],
 "metadata": {
  "kernelspec": {
   "display_name": ".venv",
   "language": "python",
   "name": "python3"
  },
  "language_info": {
   "codemirror_mode": {
    "name": "ipython",
    "version": 3
   },
   "file_extension": ".py",
   "mimetype": "text/x-python",
   "name": "python",
   "nbconvert_exporter": "python",
   "pygments_lexer": "ipython3",
   "version": "3.9.13"
  },
  "orig_nbformat": 4
 },
 "nbformat": 4,
 "nbformat_minor": 2
}
